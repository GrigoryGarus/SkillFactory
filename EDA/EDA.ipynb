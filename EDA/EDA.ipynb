{
 "cells": [
  {
   "cell_type": "code",
   "execution_count": 2,
   "metadata": {},
   "outputs": [],
   "source": [
    "# Основные цели и задачи проекта:  отследить влияние условий жизни учащихся на их успеваемость score,\n",
    "# провести разведывательный анализ данных и составить отчёт по его результатам.\n",
    "\n",
    "# Этапы работы над проектом: написание функций для удаления выбросов, заполнение пропусков на среднее,\n",
    "# среднее значение score для каждой колонки для анализа, удаление пропусков, убедиться что нет пропусков, \n",
    "# построение pairplot с score, найти закономерности.\n",
    "# Пропуски числовых переменных можно заменить на медианные значения, \n",
    "# не числовые - удалить или оставить(если менять на моду будет сильное искажение там где всего 2 уникальных значения).\n",
    "# Выводы: \n",
    "# Данные хорошего качества, можно ралботать даже с пропусками.\n",
    "# Судя по средним значениям score для не числовых значений, успеваемость лучше если:\n",
    "#     опекун мать или отец (не другие), проживание в городе, без дополнительной образовательной поддержки, \n",
    "#  если хочет получить высшее образование, есть интернет, не состоит в романтических отношениях.\n",
    "# Очень сильно влияют 3 показателя - higher — хочет получить высшее образование, romantic — в романтических отношениях и\n",
    "#  internet — наличие интернета дома\n",
    "# Те ученики которые не хотят получать высшее, находятся в романтических отношениях, без интернета - в зоне риска.\n",
    "# Остальные не числовые показатели не влияют на успеваемость.\n",
    "\n",
    "# Судя по графику pairplot для score для числовых значений, успеваемость лучше если:\n",
    "#     меньше пропущеных занятий,  меньше количество внеучебных неудач, меньше время в пути до школы,\n",
    "Остальные  числовые показатели влияют на успеваемость в незначительной степени.\n",
    "    \n",
    "\n",
    "\n",
    "\n",
    "\n",
    "import pandas as pd\n",
    "import matplotlib.pyplot as plt\n",
    "import seaborn as sns\n",
    "from itertools import combinations\n",
    "from scipy.stats import ttest_ind\n",
    "\n",
    "pd.set_option('display.max_rows', 50)  # показывать больше строк\n",
    "pd.set_option('display.max_columns', 50)  # показывать больше колонок\n",
    "\n",
    "stud = pd.read_csv('stud_math.csv')"
   ]
  },
  {
   "cell_type": "code",
   "execution_count": 3,
   "metadata": {},
   "outputs": [
    {
     "name": "stdout",
     "output_type": "stream",
     "text": [
      "Index(['school', 'sex', 'age', 'address', 'famsize', 'Pstatus', 'Medu', 'Fedu',\n",
      "       'Mjob', 'Fjob', 'reason', 'guardian', 'traveltime', 'studytime',\n",
      "       'failures', 'schoolsup', 'famsup', 'paid', 'activities', 'nursery',\n",
      "       'studytime, granular', 'higher', 'internet', 'romantic', 'famrel',\n",
      "       'freetime', 'goout', 'health', 'absences', 'score'],\n",
      "      dtype='object')\n"
     ]
    }
   ],
   "source": [
    "print(stud.columns)"
   ]
  },
  {
   "cell_type": "code",
   "execution_count": 4,
   "metadata": {},
   "outputs": [],
   "source": [
    "#удаление выбросов\n",
    "def no_outlier(stud):\n",
    "    IQR = stud.quantile(0.75) - stud.quantile(0.25)\n",
    "    perc25 = stud.quantile(0.25)\n",
    "    perc75 = stud.quantile(0.75)\n",
    "    stud = stud.loc[stud.between(perc25 - 1.5 * IQR, perc75 + 1.5 * IQR)]\n",
    "    return stud\n",
    "\n",
    "stud.score = no_outlier(stud.score)\n",
    "stud.Fedu = no_outlier(stud.Fedu)\n",
    "stud.age = no_outlier(stud.age)\n",
    "stud.absences = no_outlier(stud.absences)\n",
    "stud.health = no_outlier(stud.health)"
   ]
  },
  {
   "cell_type": "code",
   "execution_count": 5,
   "metadata": {},
   "outputs": [],
   "source": [
    "#заполнение пропусков на среднее\n",
    "def nan_numeric (col): \n",
    "    avg_val = stud[col].median()\n",
    "    stud[col].fillna(avg_val, inplace=True)\n",
    "\n",
    "#print(stud.isna().sum()) # количество пропусков\n",
    "for name in ['age', 'Medu', 'Fedu', 'traveltime', 'studytime', 'failures', 'studytime, granular',\n",
    "             'famrel', 'freetime', 'goout', 'health', 'absences']:\n",
    "    nan_numeric(name)"
   ]
  },
  {
   "cell_type": "code",
   "execution_count": 6,
   "metadata": {},
   "outputs": [],
   "source": [
    "#удаление пропусков\n",
    "\n",
    "for col in ['sex', 'guardian', 'address', 'famsize', 'Pstatus', 'Mjob', 'Fjob', 'reason', 'guardian', 'schoolsup',\n",
    "             'famsup', 'paid', 'activities', 'nursery', 'higher', 'internet', 'romantic']:\n",
    "    stud = stud[stud[col].notna()]"
   ]
  },
  {
   "cell_type": "code",
   "execution_count": 7,
   "metadata": {},
   "outputs": [
    {
     "name": "stdout",
     "output_type": "stream",
     "text": [
      "sex\n",
      "F    48.866667\n",
      "M    58.620690\n",
      "Name: score, dtype: float64\n",
      "guardian\n",
      "father    55.535714\n",
      "mother    52.819149\n",
      "other     49.545455\n",
      "Name: score, dtype: float64\n",
      "address\n",
      "R    42.812500\n",
      "U    56.386139\n",
      "Name: score, dtype: float64\n",
      "famsize\n",
      "GT3    52.032967\n",
      "LE3    55.476190\n",
      "Name: score, dtype: float64\n",
      "Pstatus\n",
      "A    55.312500\n",
      "T    52.820513\n",
      "Name: score, dtype: float64\n",
      "Mjob\n",
      "at_home     45.714286\n",
      "health      53.181818\n",
      "other       52.604167\n",
      "services    57.432432\n",
      "teacher     54.375000\n",
      "Name: score, dtype: float64\n",
      "Fjob\n",
      "at_home     51.666667\n",
      "health      53.500000\n",
      "other       52.313433\n",
      "services    53.648649\n",
      "teacher     56.153846\n",
      "Name: score, dtype: float64\n",
      "reason\n",
      "course        50.625000\n",
      "home          51.142857\n",
      "other         59.545455\n",
      "reputation    56.153846\n",
      "Name: score, dtype: float64\n",
      "guardian\n",
      "father    55.535714\n",
      "mother    52.819149\n",
      "other     49.545455\n",
      "Name: score, dtype: float64\n",
      "schoolsup\n",
      "no     54.521739\n",
      "yes    44.166667\n",
      "Name: score, dtype: float64\n",
      "famsup\n",
      "no     54.166667\n",
      "yes    52.529412\n",
      "Name: score, dtype: float64\n",
      "paid\n",
      "no     51.597222\n",
      "yes    54.918033\n",
      "Name: score, dtype: float64\n",
      "activities\n",
      "no     53.153846\n",
      "yes    53.088235\n",
      "Name: score, dtype: float64\n",
      "nursery\n",
      "no     52.222222\n",
      "yes    53.349057\n",
      "Name: score, dtype: float64\n",
      "higher\n",
      "no     44.166667\n",
      "yes    53.543307\n",
      "Name: score, dtype: float64\n",
      "internet\n",
      "no     45.500000\n",
      "yes    54.469027\n",
      "Name: score, dtype: float64\n",
      "romantic\n",
      "no     56.369048\n",
      "yes    47.551020\n",
      "Name: score, dtype: float64\n"
     ]
    }
   ],
   "source": [
    "#среднее значение score для каждой колонки\n",
    "def avg_score (col):\n",
    "    avg_val = []\n",
    "    avg_val = stud.groupby(col)['score'].mean()\n",
    "    return avg_val\n",
    "\n",
    "for name in ['sex', 'guardian', 'address', 'famsize', 'Pstatus', 'Mjob', 'Fjob', 'reason', 'guardian', 'schoolsup',\n",
    "             'famsup', 'paid', 'activities', 'nursery', 'higher', 'internet', 'romantic']:\n",
    "    print(avg_score(name))"
   ]
  },
  {
   "cell_type": "code",
   "execution_count": 8,
   "metadata": {},
   "outputs": [],
   "source": [
    "stud.insert(loc=0, column='test', value=0) #первая пустая сторока"
   ]
  },
  {
   "cell_type": "code",
   "execution_count": 9,
   "metadata": {},
   "outputs": [
    {
     "data": {
      "text/plain": [
       "<seaborn.axisgrid.PairGrid at 0x1e93af1ce20>"
      ]
     },
     "execution_count": 9,
     "metadata": {},
     "output_type": "execute_result"
    },
    {
     "data": {
      "image/png": "[encoded data removed]",
      "text/plain": [
       "<Figure size 2520x180 with 15 Axes>"
      ]
     },
     "metadata": {
      "needs_background": "light"
     },
     "output_type": "display_data"
    }
   ],
   "source": [
    "sns.pairplot(stud, kind=\"hist\", y_vars=[\"score\"])"
   ]
  },
  {
   "cell_type": "code",
   "execution_count": null,
   "metadata": {},
   "outputs": [],
   "source": []
  }
 ],
 "metadata": {
  "kernelspec": {
   "display_name": "Python 3",
   "language": "python",
   "name": "python3"
  },
  "language_info": {
   "codemirror_mode": {
    "name": "ipython",
    "version": 3
   },
   "file_extension": ".py",
   "mimetype": "text/x-python",
   "name": "python",
   "nbconvert_exporter": "python",
   "pygments_lexer": "ipython3",
   "version": "3.8.5"
  }
 },
 "nbformat": 4,
 "nbformat_minor": 4
}
