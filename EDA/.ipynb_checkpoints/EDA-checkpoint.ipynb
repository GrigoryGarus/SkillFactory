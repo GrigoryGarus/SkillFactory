{
 "cells": [
  {
   "cell_type": "code",
   "execution_count": 1,
   "metadata": {},
   "outputs": [],
   "source": [
    "Основные цели и задачи проекта:  отследить влияние условий жизни учащихся на их успеваемость score,\n",
    "провести разведывательный анализ данных и составить отчёт по его результатам.\n",
    "\n",
    "Этапы работы над проектом: написание функций для удаления выбросов, заполнение пропусков на среднее,\n",
    "среднее значение score для каждой колонки для анализа, удаление пропусков, убедиться что нет пропусков, \n",
    "построение pairplot с score, найти закономерности.\n",
    "Пропуски числовых переменных можно заменить на медианные значения, \n",
    "не числовые - удалить или оставить(если менять на моду будет сильное искажение там где всего 2 уникальных значения).\n",
    "Выводы: \n",
    "Данные хорошего качества, можно ралботать даже с пропусками.\n",
    "Судя по средним значениям score для не числовых значений, успеваемость лучше если:\n",
    "    опекун мать или отец (не другие), проживание в городе, работа матери в сфере здравохранения, работа отца учитель,\n",
    "    без дополнительной образовательной поддержки, с платными занятиями по математике,\n",
    "    \n",
    "    \n",
    "\n",
    "\n",
    "\n",
    "\n",
    "import pandas as pd\n",
    "import matplotlib.pyplot as plt\n",
    "import seaborn as sns\n",
    "from itertools import combinations\n",
    "from scipy.stats import ttest_ind\n",
    "\n",
    "pd.set_option('display.max_rows', 50)  # показывать больше строк\n",
    "pd.set_option('display.max_columns', 50)  # показывать больше колонок\n",
    "\n",
    "stud = pd.read_csv('stud_math.csv')"
   ]
  },
  {
   "cell_type": "code",
   "execution_count": 2,
   "metadata": {},
   "outputs": [
    {
     "name": "stdout",
     "output_type": "stream",
     "text": [
      "Index(['school', 'sex', 'age', 'address', 'famsize', 'Pstatus', 'Medu', 'Fedu',\n",
      "       'Mjob', 'Fjob', 'reason', 'guardian', 'traveltime', 'studytime',\n",
      "       'failures', 'schoolsup', 'famsup', 'paid', 'activities', 'nursery',\n",
      "       'studytime, granular', 'higher', 'internet', 'romantic', 'famrel',\n",
      "       'freetime', 'goout', 'health', 'absences', 'score'],\n",
      "      dtype='object')\n"
     ]
    }
   ],
   "source": [
    "print(stud.columns)"
   ]
  },
  {
   "cell_type": "code",
   "execution_count": null,
   "metadata": {},
   "outputs": [],
   "source": []
  },
  {
   "cell_type": "code",
   "execution_count": null,
   "metadata": {},
   "outputs": [],
   "source": []
  },
  {
   "cell_type": "code",
   "execution_count": null,
   "metadata": {},
   "outputs": [],
   "source": []
  }
 ],
 "metadata": {
  "kernelspec": {
   "display_name": "Python 3",
   "language": "python",
   "name": "python3"
  },
  "language_info": {
   "codemirror_mode": {
    "name": "ipython",
    "version": 3
   },
   "file_extension": ".py",
   "mimetype": "text/x-python",
   "name": "python",
   "nbconvert_exporter": "python",
   "pygments_lexer": "ipython3",
   "version": "3.8.5"
  }
 },
 "nbformat": 4,
 "nbformat_minor": 4
}
