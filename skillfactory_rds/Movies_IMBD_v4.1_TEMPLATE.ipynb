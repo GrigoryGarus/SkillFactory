{
 "cells": [
  {
   "cell_type": "code",
   "execution_count": 78,
   "metadata": {
    "_cell_guid": "b1076dfc-b9ad-4769-8c92-a6c4dae69d19",
    "_uuid": "8f2839f25d086af736a60e9eeb907d3b93b6e0e5",
    "colab": {},
    "colab_type": "code",
    "id": "U2D2gTdJVp90"
   },
   "outputs": [],
   "source": [
    "import numpy as np\n",
    "import pandas as pd\n",
    "import seaborn as sns\n",
    "import matplotlib.pyplot as plt\n",
    "from collections import Counter\n",
    "import itertools as it"
   ]
  },
  {
   "cell_type": "code",
   "execution_count": 79,
   "metadata": {
    "_cell_guid": "79c7e3d0-c299-4dcb-8224-4455121ee9b0",
    "_uuid": "d629ff2d2480ee46fbb7e2d37f6b5fab8052498a",
    "colab": {},
    "colab_type": "code",
    "id": "oyGfxL3eVp9-",
    "scrolled": true
   },
   "outputs": [
    {
     "data": {
      "text/html": [
       "<div>\n",
       "<style scoped>\n",
       "    .dataframe tbody tr th:only-of-type {\n",
       "        vertical-align: middle;\n",
       "    }\n",
       "\n",
       "    .dataframe tbody tr th {\n",
       "        vertical-align: top;\n",
       "    }\n",
       "\n",
       "    .dataframe thead th {\n",
       "        text-align: right;\n",
       "    }\n",
       "</style>\n",
       "<table border=\"1\" class=\"dataframe\">\n",
       "  <thead>\n",
       "    <tr style=\"text-align: right;\">\n",
       "      <th></th>\n",
       "      <th>imdb_id</th>\n",
       "      <th>budget</th>\n",
       "      <th>revenue</th>\n",
       "      <th>original_title</th>\n",
       "      <th>cast</th>\n",
       "      <th>director</th>\n",
       "      <th>tagline</th>\n",
       "      <th>overview</th>\n",
       "      <th>runtime</th>\n",
       "      <th>genres</th>\n",
       "      <th>production_companies</th>\n",
       "      <th>release_date</th>\n",
       "      <th>vote_average</th>\n",
       "      <th>release_year</th>\n",
       "    </tr>\n",
       "  </thead>\n",
       "  <tbody>\n",
       "    <tr>\n",
       "      <th>1262</th>\n",
       "      <td>tt1711425</td>\n",
       "      <td>13000000</td>\n",
       "      <td>48065672</td>\n",
       "      <td>21 &amp; Over</td>\n",
       "      <td>Miles Teller|Skylar Astin|Justin Chon|Sarah Wr...</td>\n",
       "      <td>Scott Moore|Jon Lucas</td>\n",
       "      <td>Finally.</td>\n",
       "      <td>Brilliant student Jeff Chang has the most impo...</td>\n",
       "      <td>93</td>\n",
       "      <td>Comedy</td>\n",
       "      <td>Relativity Media|Virgin Produced|Mandeville Fi...</td>\n",
       "      <td>3/1/2013</td>\n",
       "      <td>5.7</td>\n",
       "      <td>2013</td>\n",
       "    </tr>\n",
       "    <tr>\n",
       "      <th>544</th>\n",
       "      <td>tt0250687</td>\n",
       "      <td>48000000</td>\n",
       "      <td>85498534</td>\n",
       "      <td>Rat Race</td>\n",
       "      <td>Cuba Gooding Jr.|Seth Green|Whoopi Goldberg|Br...</td>\n",
       "      <td>Jerry Zucker</td>\n",
       "      <td>563 miles. 9 people. $2 million. 1001 problems!</td>\n",
       "      <td>In an ensemble film about easy money, greed, m...</td>\n",
       "      <td>112</td>\n",
       "      <td>Adventure|Comedy</td>\n",
       "      <td>Paramount Pictures|Fireworks Pictures|Alphavil...</td>\n",
       "      <td>7/30/2001</td>\n",
       "      <td>5.9</td>\n",
       "      <td>2001</td>\n",
       "    </tr>\n",
       "    <tr>\n",
       "      <th>1500</th>\n",
       "      <td>tt0422295</td>\n",
       "      <td>16800000</td>\n",
       "      <td>2281089</td>\n",
       "      <td>Fur: An Imaginary Portrait of Diane Arbus</td>\n",
       "      <td>Nicole Kidman|Robert Downey Jr.|Ty Burrell|Har...</td>\n",
       "      <td>Steven Shainberg</td>\n",
       "      <td>A love story.</td>\n",
       "      <td>In 1958 New York Diane Arbus is a housewife an...</td>\n",
       "      <td>122</td>\n",
       "      <td>Drama|Mystery|Romance</td>\n",
       "      <td>River Road Entertainment|Edward R. Pressman Fi...</td>\n",
       "      <td>8/30/2006</td>\n",
       "      <td>6.3</td>\n",
       "      <td>2006</td>\n",
       "    </tr>\n",
       "    <tr>\n",
       "      <th>321</th>\n",
       "      <td>tt1230414</td>\n",
       "      <td>85000000</td>\n",
       "      <td>219103655</td>\n",
       "      <td>It's Complicated</td>\n",
       "      <td>Meryl Streep|Alec Baldwin|Steve Martin|Lake Be...</td>\n",
       "      <td>Nancy Meyers</td>\n",
       "      <td>First comes marriage. Then comes divorce. And ...</td>\n",
       "      <td>Ten years after their divorce, Jane and Jake A...</td>\n",
       "      <td>121</td>\n",
       "      <td>Comedy|Romance</td>\n",
       "      <td>Universal Pictures|Scott Rudin Productions|Wav...</td>\n",
       "      <td>12/23/2009</td>\n",
       "      <td>6.2</td>\n",
       "      <td>2009</td>\n",
       "    </tr>\n",
       "    <tr>\n",
       "      <th>471</th>\n",
       "      <td>tt1213648</td>\n",
       "      <td>25000000</td>\n",
       "      <td>4644108</td>\n",
       "      <td>London Boulevard</td>\n",
       "      <td>Keira Knightley|Colin Farrell|Anna Friel|Ray W...</td>\n",
       "      <td>William Monahan</td>\n",
       "      <td>Not every criminal wants to be one.</td>\n",
       "      <td>A parolee battles a gangster for the affection...</td>\n",
       "      <td>103</td>\n",
       "      <td>Drama|Crime</td>\n",
       "      <td>GK Films|Henceforth|Projection Pictures|London...</td>\n",
       "      <td>11/10/2010</td>\n",
       "      <td>5.5</td>\n",
       "      <td>2010</td>\n",
       "    </tr>\n",
       "  </tbody>\n",
       "</table>\n",
       "</div>"
      ],
      "text/plain": [
       "        imdb_id    budget    revenue  \\\n",
       "1262  tt1711425  13000000   48065672   \n",
       "544   tt0250687  48000000   85498534   \n",
       "1500  tt0422295  16800000    2281089   \n",
       "321   tt1230414  85000000  219103655   \n",
       "471   tt1213648  25000000    4644108   \n",
       "\n",
       "                                 original_title  \\\n",
       "1262                                  21 & Over   \n",
       "544                                    Rat Race   \n",
       "1500  Fur: An Imaginary Portrait of Diane Arbus   \n",
       "321                            It's Complicated   \n",
       "471                            London Boulevard   \n",
       "\n",
       "                                                   cast  \\\n",
       "1262  Miles Teller|Skylar Astin|Justin Chon|Sarah Wr...   \n",
       "544   Cuba Gooding Jr.|Seth Green|Whoopi Goldberg|Br...   \n",
       "1500  Nicole Kidman|Robert Downey Jr.|Ty Burrell|Har...   \n",
       "321   Meryl Streep|Alec Baldwin|Steve Martin|Lake Be...   \n",
       "471   Keira Knightley|Colin Farrell|Anna Friel|Ray W...   \n",
       "\n",
       "                   director  \\\n",
       "1262  Scott Moore|Jon Lucas   \n",
       "544            Jerry Zucker   \n",
       "1500       Steven Shainberg   \n",
       "321            Nancy Meyers   \n",
       "471         William Monahan   \n",
       "\n",
       "                                                tagline  \\\n",
       "1262                                           Finally.   \n",
       "544     563 miles. 9 people. $2 million. 1001 problems!   \n",
       "1500                                      A love story.   \n",
       "321   First comes marriage. Then comes divorce. And ...   \n",
       "471                 Not every criminal wants to be one.   \n",
       "\n",
       "                                               overview  runtime  \\\n",
       "1262  Brilliant student Jeff Chang has the most impo...       93   \n",
       "544   In an ensemble film about easy money, greed, m...      112   \n",
       "1500  In 1958 New York Diane Arbus is a housewife an...      122   \n",
       "321   Ten years after their divorce, Jane and Jake A...      121   \n",
       "471   A parolee battles a gangster for the affection...      103   \n",
       "\n",
       "                     genres  \\\n",
       "1262                 Comedy   \n",
       "544        Adventure|Comedy   \n",
       "1500  Drama|Mystery|Romance   \n",
       "321          Comedy|Romance   \n",
       "471             Drama|Crime   \n",
       "\n",
       "                                   production_companies release_date  \\\n",
       "1262  Relativity Media|Virgin Produced|Mandeville Fi...     3/1/2013   \n",
       "544   Paramount Pictures|Fireworks Pictures|Alphavil...    7/30/2001   \n",
       "1500  River Road Entertainment|Edward R. Pressman Fi...    8/30/2006   \n",
       "321   Universal Pictures|Scott Rudin Productions|Wav...   12/23/2009   \n",
       "471   GK Films|Henceforth|Projection Pictures|London...   11/10/2010   \n",
       "\n",
       "      vote_average  release_year  \n",
       "1262           5.7          2013  \n",
       "544            5.9          2001  \n",
       "1500           6.3          2006  \n",
       "321            6.2          2009  \n",
       "471            5.5          2010  "
      ]
     },
     "execution_count": 79,
     "metadata": {},
     "output_type": "execute_result"
    }
   ],
   "source": [
    "data = pd.read_csv('movie_bd_v5.csv')\n",
    "data.sample(5)"
   ]
  },
  {
   "cell_type": "code",
   "execution_count": 80,
   "metadata": {
    "colab": {},
    "colab_type": "code",
    "id": "CoYUnagMVp-C"
   },
   "outputs": [
    {
     "data": {
      "text/html": [
       "<div>\n",
       "<style scoped>\n",
       "    .dataframe tbody tr th:only-of-type {\n",
       "        vertical-align: middle;\n",
       "    }\n",
       "\n",
       "    .dataframe tbody tr th {\n",
       "        vertical-align: top;\n",
       "    }\n",
       "\n",
       "    .dataframe thead th {\n",
       "        text-align: right;\n",
       "    }\n",
       "</style>\n",
       "<table border=\"1\" class=\"dataframe\">\n",
       "  <thead>\n",
       "    <tr style=\"text-align: right;\">\n",
       "      <th></th>\n",
       "      <th>budget</th>\n",
       "      <th>revenue</th>\n",
       "      <th>runtime</th>\n",
       "      <th>vote_average</th>\n",
       "      <th>release_year</th>\n",
       "    </tr>\n",
       "  </thead>\n",
       "  <tbody>\n",
       "    <tr>\n",
       "      <th>count</th>\n",
       "      <td>1.889000e+03</td>\n",
       "      <td>1.889000e+03</td>\n",
       "      <td>1889.000000</td>\n",
       "      <td>1889.000000</td>\n",
       "      <td>1889.000000</td>\n",
       "    </tr>\n",
       "    <tr>\n",
       "      <th>mean</th>\n",
       "      <td>5.431083e+07</td>\n",
       "      <td>1.553653e+08</td>\n",
       "      <td>109.658549</td>\n",
       "      <td>6.140762</td>\n",
       "      <td>2007.860773</td>\n",
       "    </tr>\n",
       "    <tr>\n",
       "      <th>std</th>\n",
       "      <td>4.858721e+07</td>\n",
       "      <td>2.146698e+08</td>\n",
       "      <td>18.017041</td>\n",
       "      <td>0.764763</td>\n",
       "      <td>4.468841</td>\n",
       "    </tr>\n",
       "    <tr>\n",
       "      <th>min</th>\n",
       "      <td>5.000000e+06</td>\n",
       "      <td>2.033165e+06</td>\n",
       "      <td>63.000000</td>\n",
       "      <td>3.300000</td>\n",
       "      <td>2000.000000</td>\n",
       "    </tr>\n",
       "    <tr>\n",
       "      <th>25%</th>\n",
       "      <td>2.000000e+07</td>\n",
       "      <td>3.456058e+07</td>\n",
       "      <td>97.000000</td>\n",
       "      <td>5.600000</td>\n",
       "      <td>2004.000000</td>\n",
       "    </tr>\n",
       "    <tr>\n",
       "      <th>50%</th>\n",
       "      <td>3.800000e+07</td>\n",
       "      <td>8.361541e+07</td>\n",
       "      <td>107.000000</td>\n",
       "      <td>6.100000</td>\n",
       "      <td>2008.000000</td>\n",
       "    </tr>\n",
       "    <tr>\n",
       "      <th>75%</th>\n",
       "      <td>7.200000e+07</td>\n",
       "      <td>1.782626e+08</td>\n",
       "      <td>120.000000</td>\n",
       "      <td>6.600000</td>\n",
       "      <td>2012.000000</td>\n",
       "    </tr>\n",
       "    <tr>\n",
       "      <th>max</th>\n",
       "      <td>3.800000e+08</td>\n",
       "      <td>2.781506e+09</td>\n",
       "      <td>214.000000</td>\n",
       "      <td>8.100000</td>\n",
       "      <td>2015.000000</td>\n",
       "    </tr>\n",
       "  </tbody>\n",
       "</table>\n",
       "</div>"
      ],
      "text/plain": [
       "             budget       revenue      runtime  vote_average  release_year\n",
       "count  1.889000e+03  1.889000e+03  1889.000000   1889.000000   1889.000000\n",
       "mean   5.431083e+07  1.553653e+08   109.658549      6.140762   2007.860773\n",
       "std    4.858721e+07  2.146698e+08    18.017041      0.764763      4.468841\n",
       "min    5.000000e+06  2.033165e+06    63.000000      3.300000   2000.000000\n",
       "25%    2.000000e+07  3.456058e+07    97.000000      5.600000   2004.000000\n",
       "50%    3.800000e+07  8.361541e+07   107.000000      6.100000   2008.000000\n",
       "75%    7.200000e+07  1.782626e+08   120.000000      6.600000   2012.000000\n",
       "max    3.800000e+08  2.781506e+09   214.000000      8.100000   2015.000000"
      ]
     },
     "execution_count": 80,
     "metadata": {},
     "output_type": "execute_result"
    }
   ],
   "source": [
    "data.describe()"
   ]
  },
  {
   "cell_type": "markdown",
   "metadata": {
    "colab_type": "text",
    "id": "DTIt7ezGVp-G"
   },
   "source": [
    "# Предобработка"
   ]
  },
  {
   "cell_type": "code",
   "execution_count": 138,
   "metadata": {
    "colab": {},
    "colab_type": "code",
    "id": "jNb40DwKVp-H"
   },
   "outputs": [],
   "source": [
    "answers = {} # создадим словарь для ответов\n",
    "\n",
    "# тут другие ваши предобработки колонок например:\n",
    "\n",
    "#the time given in the dataset is in string format.\n",
    "#So we need to change this in datetime format\n",
    "# ...\n",
    "\n",
    "data['profit'] = np.subtract(data['revenue'], data['budget'])\n",
    "import re\n",
    "import operator\n",
    "def genres_max (gen):\n",
    "    genres = []\n",
    "    flat_list = []\n",
    "    for genre in gen:\n",
    "        genres.append(genre.split(\"|\"))\n",
    "\n",
    "    for sublist in genres:\n",
    "        for item in sublist:\n",
    "            flat_list.append(item)\n",
    "    genres_count = dict(Counter(flat_list))\n",
    "    res = max(genres_count.items(), key=operator.itemgetter(1))[0]\n",
    "\n",
    "    return res\n",
    "\n",
    "def genres_profit (gen):\n",
    "    genres = []\n",
    "    flat_list = []\n",
    "    for genre in gen['genres'][gen['profit']>0]:\n",
    "        genres.append(genre.split(\"|\"))\n",
    "\n",
    "    for sublist in genres:\n",
    "        for item in sublist:\n",
    "            flat_list.append(item)\n",
    "    genres_count = dict(Counter(flat_list))\n",
    "    res = max(genres_count.items(), key=operator.itemgetter(1))[0]\n",
    "\n",
    "    return res\n",
    "\n",
    "def director_max_revenue (gen):\n",
    "    max_revenue = 0\n",
    "    director_max = ''\n",
    "    rev_sum = 0\n",
    "    for director in gen['director']:\n",
    "        for rev in gen['revenue'][gen['director']==director]:\n",
    "            rev_sum+=rev\n",
    "        if rev_sum>max_revenue:\n",
    "            max_revenue = rev_sum\n",
    "            director_max = director\n",
    "        rev_sum = 0\n",
    "\n",
    "\n",
    "    return director_max\n",
    "\n",
    "def director_max_action2 (data):\n",
    "    dirs = []\n",
    "    data_action = data[data['genres'].str.contains('Action')]\n",
    "    for director in data_action['director'].str.split(pat=\"|\"):\n",
    "        dirs.append(director)\n",
    "\n",
    "    flat_list = [item for sublist in dirs for item in sublist]\n",
    "    dirs_count = dict(Counter(flat_list))\n",
    "    sorted_dirs = sorted(dirs_count.items(), key=operator.itemgetter(1))\n",
    "    res = max(dirs_count.items(), key=operator.itemgetter(1))[0]\n",
    "\n",
    "    return res\n",
    "\n",
    "def acter_max_revenue (data):\n",
    "    acters = []\n",
    "    acter_max = \"\"\n",
    "    count_rev = 0\n",
    "    count_max = 0\n",
    "    data_2012 = data[data['release_year'] == 2012]\n",
    "\n",
    "    for acter in data_2012['cast'].str.split(pat=\"|\"):\n",
    "        acters.append(acter)\n",
    "\n",
    "    flat_list = [item for sublist in acters for item in sublist]\n",
    "    for acter in flat_list:\n",
    "        for rev in data_2012['revenue'][data_2012['cast'].str.contains(acter)]:\n",
    "            count_rev+=rev\n",
    "        if count_rev > count_max:\n",
    "            count_max = count_rev\n",
    "            acter_max = acter\n",
    "        count_rev = 0\n",
    "\n",
    "    return acter_max\n",
    "\n",
    "def acter_high (data):\n",
    "    acters = []\n",
    "    data_high = data[data['budget'] > data['budget'].mean()]\n",
    "\n",
    "    for acter in data_high['cast'].str.split(pat=\"|\"):\n",
    "        acters.append(acter)\n",
    "\n",
    "    flat_list = [item for sublist in acters for item in sublist]\n",
    "    dirs_count = dict(Counter(flat_list))\n",
    "    sorted_dirs = sorted(dirs_count.items(), key=operator.itemgetter(1))\n",
    "    res = max(dirs_count.items(), key=operator.itemgetter(1))[0]\n",
    "\n",
    "    return res\n",
    "\n",
    "def acter_cage (data):\n",
    "    genras = []\n",
    "    data_cage = data[data['cast'].str.contains(\"Nicolas Cage\")]\n",
    "\n",
    "    for genre in data_cage['genres'].str.split(pat=\"|\"):\n",
    "        genras.append(genre)\n",
    "\n",
    "    flat_list = [item for sublist in genras for item in sublist]\n",
    "    dirs_count = dict(Counter(flat_list))\n",
    "    sorted_dirs = sorted(dirs_count.items(), key=operator.itemgetter(1))\n",
    "    res = max(dirs_count.items(), key=operator.itemgetter(1))[0]\n",
    "    return res\n",
    "\n",
    "def paramount (data):\n",
    "    genras = []\n",
    "    profit = 0\n",
    "    profit_min = 0\n",
    "    data_paramount = data[data['production_companies'].str.contains(\"Paramount Pictures\")]\n",
    "\n",
    "    for profit in data_paramount['profit']:\n",
    "        if profit < profit_min:\n",
    "            profit_min = profit\n",
    "    res = data_paramount['original_title'][data_paramount['profit'] == profit_min]\n",
    "\n",
    "\n",
    "    return res\n",
    "\n",
    "def year_profit (data):\n",
    "    years = []\n",
    "    profits = {}\n",
    "\n",
    "    for year in data['release_year']:\n",
    "        years.append(year) if year not in years else years\n",
    "\n",
    "    for year in years:\n",
    "        for rev in data['revenue'][data['release_year'] == year]:\n",
    "\n",
    "            if year in profits:\n",
    "                profits[year] += rev\n",
    "\n",
    "            else:\n",
    "                # profits[year] = int(data['revenue'][data['release_year'] == year])\n",
    "                profits[year] = rev\n",
    "\n",
    "    dirs_count = dict(Counter(profits))\n",
    "    sorted_dirs = sorted(dirs_count.items(), key=operator.itemgetter(1))\n",
    "    res = max(dirs_count.items(), key=operator.itemgetter(1))[0]\n",
    "\n",
    "\n",
    "\n",
    "    return res\n",
    "\n",
    "def year_profit1 (data):\n",
    "    years = []\n",
    "    profits = {}\n",
    "\n",
    "    for year in data['release_year']:\n",
    "        years.append(year) if year not in years else years\n",
    "\n",
    "    for year in years:\n",
    "        for rev in data['profit'][data['release_year'] == year]:\n",
    "\n",
    "            if year in profits:\n",
    "                profits[year] += rev\n",
    "\n",
    "            else:\n",
    "                # profits[year] = int(data['revenue'][data['release_year'] == year])\n",
    "                profits[year] = rev\n",
    "\n",
    "    dirs_count = dict(Counter(profits))\n",
    "    sorted_dirs = sorted(dirs_count.items(), key=operator.itemgetter(1))\n",
    "    res = max(dirs_count.items(), key=operator.itemgetter(1))[0]\n",
    "\n",
    "\n",
    "\n",
    "    return res\n",
    "\n",
    "def month_sum (data):\n",
    "    data_month = []\n",
    "    for date in data['release_date']:\n",
    "        data_month.append(re.search(r'\\d+', date).group())\n",
    "\n",
    "    dirs_count = dict(Counter(data_month))\n",
    "    sorted_dirs = sorted(dirs_count.items(), key=operator.itemgetter(1))\n",
    "    res = max(dirs_count.items(), key=operator.itemgetter(1))[0]\n",
    "\n",
    "\n",
    "\n",
    "    return res\n",
    "\n",
    "def summer (data):\n",
    "    count = 0\n",
    "    for date in data['release_date'][data['release_date'].str.match('6|7|8')]:\n",
    "        count+=1\n",
    "        \n",
    "    return count\n",
    "\n",
    "def winter_director (data):\n",
    "    directors = []\n",
    "    for director in data['director'].str.split(pat=\"|\")[data['release_date'].str.match('1(?!1|0)|2')]:\n",
    "        directors.append(director)\n",
    "\n",
    "    flat_list = [item for sublist in directors for item in sublist]\n",
    "    dirs_count = dict(Counter(flat_list))\n",
    "    sorted_dirs = sorted(dirs_count.items(), key=operator.itemgetter(1))\n",
    "    res = max(dirs_count.items(), key=operator.itemgetter(1))[0]\n",
    "\n",
    "\n",
    "\n",
    "    return res\n",
    "\n",
    "def company_title (data):\n",
    "    companies = []\n",
    "    companies_count = {}\n",
    "    count = 0\n",
    "    title_count = 0\n",
    "    for company in data['production_companies'].str.split(pat=\"|\"):\n",
    "        companies.append(company) if company not in companies else companies\n",
    "    flat_list = [item for sublist in companies for item in sublist]\n",
    "\n",
    "    for company in flat_list:\n",
    "\n",
    "        for title in data['original_title'][data['production_companies'].str.contains(company)]:\n",
    "            if title is None:\n",
    "                pass\n",
    "            else:\n",
    "                #print(title)\n",
    "                title_count += 1\n",
    "                for letter in title:\n",
    "                    #print(letter)\n",
    "                    count += 1\n",
    "\n",
    "            #print(title_count)\n",
    "            #print(count)\n",
    "            companies_count[company] = round(count/title_count)\n",
    "        count = 0\n",
    "        title_count = 0\n",
    "\n",
    "    #dirs_count = dict(Counter(flat_list))\n",
    "    sorted_dirs = sorted(companies_count.items(), key=operator.itemgetter(1))\n",
    "    res = max(companies_count.items(), key=operator.itemgetter(1))[0]\n",
    "\n",
    "\n",
    "\n",
    "    return res\n",
    "\n",
    "def company_overview (data):\n",
    "    companies = []\n",
    "    companies_count = {}\n",
    "    count = 0\n",
    "    title_count = 0\n",
    "    for company in data['production_companies'].str.split(pat=\"|\"):\n",
    "        companies.append(company) if company not in companies else companies\n",
    "    flat_list = [item for sublist in companies for item in sublist]\n",
    "\n",
    "    for company in flat_list:\n",
    "        for overview in data['overview'][data['production_companies'].str.contains(company)]:\n",
    "            if overview is None:\n",
    "                pass\n",
    "            else:\n",
    "                for words in overview:\n",
    "                    count += 1\n",
    "                    #print(count)\n",
    "                title_count += 1\n",
    "            companies_count[company] = round(count/title_count)\n",
    "            count = 0\n",
    "            title_count = 0\n",
    "\n",
    "    #dirs_count = dict(Counter(flat_list))\n",
    "    sorted_dirs = sorted(companies_count.items(), key=operator.itemgetter(1))\n",
    "    res = max(companies_count.items(), key=operator.itemgetter(1))[0]\n",
    "\n",
    "\n",
    "\n",
    "    return res\n",
    "\n",
    "def acters_together (data):\n",
    "    acters_list = []\n",
    "    acters_pairs = []\n",
    "    sorted_acters = []\n",
    "    for acters_set in data['cast'].str.split(pat=\"|\"):\n",
    "        acters_list.append(acters_set)\n",
    "\n",
    "    for set in acters_list:\n",
    "        for subset in it.combinations(set, 2):\n",
    "            acters_pairs.append(sorted(list(subset)))\n",
    "\n",
    "\n",
    "    for acter_pair in acters_pairs:\n",
    "        string_pairs = \"\"\n",
    "        for ele in acter_pair :\n",
    "         string_pairs += ele\n",
    "        sorted_acters.append(string_pairs)\n",
    "\n",
    "\n",
    "\n",
    "\n",
    "    dirs_count = dict(Counter(sorted_acters))\n",
    "    sorted_dirs = sorted(dirs_count.items(), key=operator.itemgetter(1))\n",
    "    res = max(dirs_count.items(), key=operator.itemgetter(1))[0]\n",
    "    \n",
    "    return res\n"
   ]
  },
  {
   "cell_type": "markdown",
   "metadata": {
    "colab_type": "text",
    "id": "YxZaH-nPVp-L"
   },
   "source": [
    "# 1. У какого фильма из списка самый большой бюджет?"
   ]
  },
  {
   "cell_type": "markdown",
   "metadata": {
    "colab_type": "text",
    "id": "Nd-G5gX6Vp-M"
   },
   "source": [
    "Использовать варианты ответов в коде решения запрещено.    \n",
    "Вы думаете и в жизни у вас будут варианты ответов?)"
   ]
  },
  {
   "cell_type": "code",
   "execution_count": 139,
   "metadata": {
    "colab": {},
    "colab_type": "code",
    "id": "uVnXAY5RVp-O"
   },
   "outputs": [],
   "source": [
    "# в словарь вставляем номер вопроса и ваш ответ на него\n",
    "# Пример: \n",
    "answers['1'] = '2. Spider-Man 3 (tt0413300)'\n",
    "# запишите свой вариант ответа\n",
    "answers['1'] = '1. Pirates of the Caribbean: On Stranger Tides (tt1298650)'\n",
    "# если ответили верно, можете добавить комментарий со значком \"+\""
   ]
  },
  {
   "cell_type": "code",
   "execution_count": 140,
   "metadata": {
    "colab": {},
    "colab_type": "code",
    "id": "dZwb3m28Vp-S"
   },
   "outputs": [
    {
     "name": "stdout",
     "output_type": "stream",
     "text": [
      "723    Pirates of the Caribbean: On Stranger Tides\n",
      "Name: original_title, dtype: object\n"
     ]
    }
   ],
   "source": [
    "# тут пишем ваш код для решения данного вопроса:\n",
    "print(data['original_title'][data['budget']==data['budget'].max()])"
   ]
  },
  {
   "cell_type": "markdown",
   "metadata": {
    "colab_type": "text",
    "id": "K7L3nbRXVp-X"
   },
   "source": [
    "ВАРИАНТ 2"
   ]
  },
  {
   "cell_type": "code",
   "execution_count": 141,
   "metadata": {
    "colab": {},
    "colab_type": "code",
    "id": "OGaoQI7rVp-X"
   },
   "outputs": [],
   "source": [
    "# можно добавлять разные варианты решения"
   ]
  },
  {
   "cell_type": "markdown",
   "metadata": {
    "colab_type": "text",
    "id": "FNRbbI3vVp-c"
   },
   "source": [
    "# 2. Какой из фильмов самый длительный (в минутах)?"
   ]
  },
  {
   "cell_type": "code",
   "execution_count": 142,
   "metadata": {
    "colab": {},
    "colab_type": "code",
    "id": "vHAoEXNTVp-d"
   },
   "outputs": [],
   "source": [
    "# думаю логику работы с этим словарем вы уже поняли, \n",
    "# по этому не буду больше его дублировать\n",
    "answers['2'] = '2. Gods and Generals (tt0279111)'"
   ]
  },
  {
   "cell_type": "code",
   "execution_count": 143,
   "metadata": {
    "colab": {},
    "colab_type": "code",
    "id": "ot-VX2XrVp-g"
   },
   "outputs": [
    {
     "name": "stdout",
     "output_type": "stream",
     "text": [
      "1157    Gods and Generals\n",
      "Name: original_title, dtype: object\n"
     ]
    }
   ],
   "source": [
    "print(data['original_title'][data['runtime']==data['runtime'].max()])"
   ]
  },
  {
   "cell_type": "markdown",
   "metadata": {
    "colab_type": "text",
    "id": "bapLlpW8Vp-k"
   },
   "source": [
    "# 3. Какой из фильмов самый короткий (в минутах)?\n",
    "\n",
    "\n",
    "\n"
   ]
  },
  {
   "cell_type": "code",
   "execution_count": 144,
   "metadata": {
    "colab": {},
    "colab_type": "code",
    "id": "YBxaSHuAVp-l"
   },
   "outputs": [],
   "source": [
    "answers['3'] = '3. Winnie the Pooh (tt1449283)'"
   ]
  },
  {
   "cell_type": "code",
   "execution_count": 145,
   "metadata": {},
   "outputs": [
    {
     "name": "stdout",
     "output_type": "stream",
     "text": [
      "768    Winnie the Pooh\n",
      "Name: original_title, dtype: object\n"
     ]
    }
   ],
   "source": [
    "print(data['original_title'][data['runtime']==data['runtime'].min()])"
   ]
  },
  {
   "cell_type": "markdown",
   "metadata": {
    "colab_type": "text",
    "id": "TfQbxbfNVp-p"
   },
   "source": [
    "# 4. Какова средняя длительность фильмов?\n"
   ]
  },
  {
   "cell_type": "code",
   "execution_count": 146,
   "metadata": {
    "colab": {},
    "colab_type": "code",
    "id": "5K6dKZYVVp-q"
   },
   "outputs": [],
   "source": [
    "answers['4'] = '4. 110'"
   ]
  },
  {
   "cell_type": "code",
   "execution_count": 147,
   "metadata": {},
   "outputs": [
    {
     "name": "stdout",
     "output_type": "stream",
     "text": [
      "109.6585494970884\n"
     ]
    }
   ],
   "source": [
    "print(data['runtime'].mean())"
   ]
  },
  {
   "cell_type": "markdown",
   "metadata": {
    "colab_type": "text",
    "id": "r5TvbnT_Vp-u"
   },
   "source": [
    "# 5. Каково медианное значение длительности фильмов? "
   ]
  },
  {
   "cell_type": "code",
   "execution_count": 148,
   "metadata": {
    "colab": {},
    "colab_type": "code",
    "id": "iBROplKnVp-v"
   },
   "outputs": [],
   "source": [
    "answers['5'] = '5. 107'"
   ]
  },
  {
   "cell_type": "code",
   "execution_count": 149,
   "metadata": {},
   "outputs": [
    {
     "name": "stdout",
     "output_type": "stream",
     "text": [
      "107.0\n"
     ]
    }
   ],
   "source": [
    "print(data['runtime'].median()) #5"
   ]
  },
  {
   "cell_type": "markdown",
   "metadata": {
    "colab_type": "text",
    "id": "39P-deDSVp-y"
   },
   "source": [
    "# 6. Какой самый прибыльный фильм?\n",
    "#### Внимание! Здесь и далее под «прибылью» или «убытками» понимается разность между сборами и бюджетом фильма. (прибыль = сборы - бюджет) в нашем датасете это будет (profit = revenue - budget) "
   ]
  },
  {
   "cell_type": "code",
   "execution_count": 150,
   "metadata": {
    "colab": {},
    "colab_type": "code",
    "id": "UYZh4T9WVp-y"
   },
   "outputs": [],
   "source": [
    "answers['6'] = '6. Avatar (tt0499549)'"
   ]
  },
  {
   "cell_type": "code",
   "execution_count": 151,
   "metadata": {},
   "outputs": [
    {
     "name": "stdout",
     "output_type": "stream",
     "text": [
      "239    Avatar\n",
      "Name: original_title, dtype: object\n"
     ]
    }
   ],
   "source": [
    "# лучше код получения столбца profit вынести в Предобработку что в начале\n",
    "print(data['original_title'][data['profit']==data['profit'].max()]) #6"
   ]
  },
  {
   "cell_type": "markdown",
   "metadata": {
    "colab_type": "text",
    "id": "M99JmIX4Vp-2"
   },
   "source": [
    "# 7. Какой фильм самый убыточный? "
   ]
  },
  {
   "cell_type": "code",
   "execution_count": 152,
   "metadata": {
    "colab": {},
    "colab_type": "code",
    "id": "w-D2m4XPVp-3"
   },
   "outputs": [],
   "source": [
    "answers['7'] = '7. The Lone Ranger (tt1210819)'"
   ]
  },
  {
   "cell_type": "code",
   "execution_count": 153,
   "metadata": {},
   "outputs": [
    {
     "name": "stdout",
     "output_type": "stream",
     "text": [
      "1245    The Lone Ranger\n",
      "Name: original_title, dtype: object\n"
     ]
    }
   ],
   "source": [
    "print(data['original_title'][data['profit']==data['profit'].min()]) #7"
   ]
  },
  {
   "cell_type": "markdown",
   "metadata": {
    "colab_type": "text",
    "id": "wEOM5ERVVp-6"
   },
   "source": [
    "# 8. У скольких фильмов из датасета объем сборов оказался выше бюджета?"
   ]
  },
  {
   "cell_type": "code",
   "execution_count": 154,
   "metadata": {
    "colab": {},
    "colab_type": "code",
    "id": "y00_7HD6Vp-7"
   },
   "outputs": [],
   "source": [
    "answers['8'] = '8. 1478'"
   ]
  },
  {
   "cell_type": "code",
   "execution_count": 155,
   "metadata": {},
   "outputs": [
    {
     "name": "stdout",
     "output_type": "stream",
     "text": [
      "1478\n"
     ]
    }
   ],
   "source": [
    "print(len(data[data['profit']>0]))"
   ]
  },
  {
   "cell_type": "markdown",
   "metadata": {
    "colab_type": "text",
    "id": "xhpspA9KVp_A"
   },
   "source": [
    "# 9. Какой фильм оказался самым кассовым в 2008 году?"
   ]
  },
  {
   "cell_type": "code",
   "execution_count": 156,
   "metadata": {
    "colab": {},
    "colab_type": "code",
    "id": "MoUyQr9RVp_B"
   },
   "outputs": [],
   "source": [
    "answers['9'] = '9. The Dark Knight (tt0468569)'"
   ]
  },
  {
   "cell_type": "code",
   "execution_count": 157,
   "metadata": {},
   "outputs": [
    {
     "name": "stdout",
     "output_type": "stream",
     "text": [
      "599    The Dark Knight\n",
      "Name: original_title, dtype: object\n"
     ]
    }
   ],
   "source": [
    "data2008 = data[data['release_year'] == 2008]\n",
    "print(data2008['original_title'][data2008['profit'] == data2008['profit'].max()]) #9"
   ]
  },
  {
   "cell_type": "markdown",
   "metadata": {
    "colab_type": "text",
    "id": "Zi4hDKidVp_F"
   },
   "source": [
    "# 10. Самый убыточный фильм за период с 2012 по 2014 г. (включительно)?\n"
   ]
  },
  {
   "cell_type": "code",
   "execution_count": 158,
   "metadata": {
    "colab": {},
    "colab_type": "code",
    "id": "XqyRmufJVp_F"
   },
   "outputs": [],
   "source": [
    "answers['10'] = '10. The Lone Ranger (tt1210819)'"
   ]
  },
  {
   "cell_type": "code",
   "execution_count": 159,
   "metadata": {},
   "outputs": [
    {
     "name": "stdout",
     "output_type": "stream",
     "text": [
      "1245    The Lone Ranger\n",
      "Name: original_title, dtype: object\n"
     ]
    }
   ],
   "source": [
    "data2012 = data[(data['release_year']>= 2012) & (data['release_year']<= 2014)]\n",
    "print(data2012['original_title'][data2012['profit']==data2012['profit'].min()]) #10"
   ]
  },
  {
   "cell_type": "markdown",
   "metadata": {
    "colab_type": "text",
    "id": "EA7Sa9dkVp_I"
   },
   "source": [
    "# 11. Какого жанра фильмов больше всего?"
   ]
  },
  {
   "cell_type": "code",
   "execution_count": 160,
   "metadata": {
    "colab": {},
    "colab_type": "code",
    "id": "zsJAwJ8QVp_J"
   },
   "outputs": [],
   "source": [
    "# эту задачу тоже можно решать разными подходами, попробуй реализовать разные варианты\n",
    "# если будешь добавлять функцию - выноси ее в предобработку что в начале\n",
    "answers['11'] = '11. Drama'"
   ]
  },
  {
   "cell_type": "code",
   "execution_count": 161,
   "metadata": {},
   "outputs": [
    {
     "name": "stdout",
     "output_type": "stream",
     "text": [
      "Drama\n"
     ]
    }
   ],
   "source": [
    "print(genres_max(data['genres']))"
   ]
  },
  {
   "cell_type": "markdown",
   "metadata": {
    "colab_type": "text",
    "id": "Ax6g2C8SVp_M"
   },
   "source": [
    "ВАРИАНТ 2"
   ]
  },
  {
   "cell_type": "code",
   "execution_count": null,
   "metadata": {
    "colab": {},
    "colab_type": "code",
    "id": "otO3SbrSVp_N"
   },
   "outputs": [],
   "source": []
  },
  {
   "cell_type": "markdown",
   "metadata": {
    "colab_type": "text",
    "id": "T9_bPWpkVp_Q"
   },
   "source": [
    "# 12. Фильмы какого жанра чаще всего становятся прибыльными? "
   ]
  },
  {
   "cell_type": "code",
   "execution_count": 162,
   "metadata": {
    "colab": {},
    "colab_type": "code",
    "id": "Tmt8MaK1Vp_R"
   },
   "outputs": [],
   "source": [
    "answers['12'] = '12. Drama'"
   ]
  },
  {
   "cell_type": "code",
   "execution_count": 163,
   "metadata": {},
   "outputs": [
    {
     "name": "stdout",
     "output_type": "stream",
     "text": [
      "Drama\n"
     ]
    }
   ],
   "source": [
    "print(genres_profit(data)) #12"
   ]
  },
  {
   "cell_type": "markdown",
   "metadata": {
    "colab_type": "text",
    "id": "0F23bgsDVp_U"
   },
   "source": [
    "# 13. У какого режиссера самые большие суммарные кассовые сборы?"
   ]
  },
  {
   "cell_type": "code",
   "execution_count": 164,
   "metadata": {
    "colab": {},
    "colab_type": "code",
    "id": "K6Z3J8ygVp_X"
   },
   "outputs": [],
   "source": [
    "answers['13'] = '13. Peter Jackson'"
   ]
  },
  {
   "cell_type": "code",
   "execution_count": 165,
   "metadata": {},
   "outputs": [
    {
     "name": "stdout",
     "output_type": "stream",
     "text": [
      "Peter Jackson\n"
     ]
    }
   ],
   "source": [
    "print(director_max_revenue(data)) #13"
   ]
  },
  {
   "cell_type": "markdown",
   "metadata": {
    "colab_type": "text",
    "id": "PsYC9FgRVp_a"
   },
   "source": [
    "# 14. Какой режисер снял больше всего фильмов в стиле Action?"
   ]
  },
  {
   "cell_type": "code",
   "execution_count": 166,
   "metadata": {
    "colab": {},
    "colab_type": "code",
    "id": "wd2M-wHeVp_b"
   },
   "outputs": [],
   "source": [
    "answers['14'] = '14. Robert Rodriguez'"
   ]
  },
  {
   "cell_type": "code",
   "execution_count": 167,
   "metadata": {},
   "outputs": [
    {
     "name": "stdout",
     "output_type": "stream",
     "text": [
      "Robert Rodriguez\n"
     ]
    }
   ],
   "source": [
    "print(director_max_action2(data)) #14"
   ]
  },
  {
   "cell_type": "markdown",
   "metadata": {
    "colab_type": "text",
    "id": "PQ0KciD7Vp_f"
   },
   "source": [
    "# 15. Фильмы с каким актером принесли самые высокие кассовые сборы в 2012 году? "
   ]
  },
  {
   "cell_type": "code",
   "execution_count": 168,
   "metadata": {
    "colab": {},
    "colab_type": "code",
    "id": "aga62oeKVp_g"
   },
   "outputs": [],
   "source": [
    "answers['15'] = '15. Chris Hemsworth'"
   ]
  },
  {
   "cell_type": "code",
   "execution_count": 169,
   "metadata": {},
   "outputs": [
    {
     "name": "stdout",
     "output_type": "stream",
     "text": [
      "Chris Hemsworth\n"
     ]
    }
   ],
   "source": [
    "print(acter_max_revenue(data)) #15"
   ]
  },
  {
   "cell_type": "markdown",
   "metadata": {
    "colab_type": "text",
    "id": "mWHyyL7QVp_j"
   },
   "source": [
    "# 16. Какой актер снялся в большем количестве высокобюджетных фильмов?"
   ]
  },
  {
   "cell_type": "code",
   "execution_count": 170,
   "metadata": {
    "colab": {},
    "colab_type": "code",
    "id": "qQtmHKTFVp_k"
   },
   "outputs": [],
   "source": [
    "answers['16'] = '16. Matt Damon'"
   ]
  },
  {
   "cell_type": "code",
   "execution_count": 171,
   "metadata": {},
   "outputs": [
    {
     "name": "stdout",
     "output_type": "stream",
     "text": [
      "Matt Damon\n"
     ]
    }
   ],
   "source": [
    "print(acter_high(data)) #16"
   ]
  },
  {
   "cell_type": "markdown",
   "metadata": {
    "colab_type": "text",
    "id": "NIh6AaW5Vp_n"
   },
   "source": [
    "# 17. В фильмах какого жанра больше всего снимался Nicolas Cage? "
   ]
  },
  {
   "cell_type": "code",
   "execution_count": 172,
   "metadata": {
    "colab": {},
    "colab_type": "code",
    "id": "H74SJDIBVp_n"
   },
   "outputs": [],
   "source": [
    "answers['17'] = '17. Action'"
   ]
  },
  {
   "cell_type": "code",
   "execution_count": 173,
   "metadata": {},
   "outputs": [
    {
     "name": "stdout",
     "output_type": "stream",
     "text": [
      "Action\n"
     ]
    }
   ],
   "source": [
    "print(acter_cage(data)) #17"
   ]
  },
  {
   "cell_type": "markdown",
   "metadata": {
    "colab_type": "text",
    "id": "RqOmPRfWVp_q"
   },
   "source": [
    "# 18. Самый убыточный фильм от Paramount Pictures"
   ]
  },
  {
   "cell_type": "code",
   "execution_count": 174,
   "metadata": {
    "colab": {},
    "colab_type": "code",
    "id": "9E_B0Y96Vp_r"
   },
   "outputs": [],
   "source": [
    "answers['18'] = '18. K-19: The Widowmaker (tt0267626)'"
   ]
  },
  {
   "cell_type": "code",
   "execution_count": 175,
   "metadata": {},
   "outputs": [
    {
     "name": "stdout",
     "output_type": "stream",
     "text": [
      "925    K-19: The Widowmaker\n",
      "Name: original_title, dtype: object\n"
     ]
    }
   ],
   "source": [
    "print(paramount(data)) #18"
   ]
  },
  {
   "cell_type": "markdown",
   "metadata": {
    "colab_type": "text",
    "id": "vS8Ur6ddVp_u"
   },
   "source": [
    "# 19. Какой год стал самым успешным по суммарным кассовым сборам?"
   ]
  },
  {
   "cell_type": "code",
   "execution_count": 176,
   "metadata": {
    "colab": {},
    "colab_type": "code",
    "id": "Dnbt4GdIVp_v"
   },
   "outputs": [],
   "source": [
    "answers['19'] = '19. 2015'"
   ]
  },
  {
   "cell_type": "code",
   "execution_count": 177,
   "metadata": {},
   "outputs": [
    {
     "name": "stdout",
     "output_type": "stream",
     "text": [
      "2015\n"
     ]
    }
   ],
   "source": [
    "print(year_profit(data)) #19"
   ]
  },
  {
   "cell_type": "markdown",
   "metadata": {
    "colab_type": "text",
    "id": "JAzJh4QAVp_z"
   },
   "source": [
    "# 20. Какой самый прибыльный год для студии Warner Bros?"
   ]
  },
  {
   "cell_type": "code",
   "execution_count": 178,
   "metadata": {
    "colab": {},
    "colab_type": "code",
    "id": "wgVu02DEVp_0"
   },
   "outputs": [],
   "source": [
    "answers['20'] = '20. 2014'"
   ]
  },
  {
   "cell_type": "code",
   "execution_count": 179,
   "metadata": {},
   "outputs": [
    {
     "name": "stdout",
     "output_type": "stream",
     "text": [
      "2014\n"
     ]
    }
   ],
   "source": [
    "data_wb = data[data['production_companies'].str.contains(\"Warner Bros\")]\n",
    "print(year_profit1(data_wb)) #20"
   ]
  },
  {
   "cell_type": "markdown",
   "metadata": {
    "colab_type": "text",
    "id": "8Im1S2HRVp_4"
   },
   "source": [
    "# 21. В каком месяце за все годы суммарно вышло больше всего фильмов?"
   ]
  },
  {
   "cell_type": "code",
   "execution_count": 180,
   "metadata": {
    "colab": {},
    "colab_type": "code",
    "id": "lev6TH7gVp_4"
   },
   "outputs": [],
   "source": [
    "answers['21'] = '21. Сентябрь'"
   ]
  },
  {
   "cell_type": "code",
   "execution_count": 181,
   "metadata": {},
   "outputs": [
    {
     "name": "stdout",
     "output_type": "stream",
     "text": [
      "9\n"
     ]
    }
   ],
   "source": [
    "print(month_sum(data)) #21"
   ]
  },
  {
   "cell_type": "markdown",
   "metadata": {
    "colab_type": "text",
    "id": "uAJsZ_NeVp_7"
   },
   "source": [
    "# 22. Сколько суммарно вышло фильмов летом? (за июнь, июль, август)"
   ]
  },
  {
   "cell_type": "code",
   "execution_count": 182,
   "metadata": {
    "colab": {},
    "colab_type": "code",
    "id": "Aa-hEREoVp_8"
   },
   "outputs": [],
   "source": [
    "answers['22'] = '22. 450'"
   ]
  },
  {
   "cell_type": "code",
   "execution_count": 183,
   "metadata": {},
   "outputs": [
    {
     "name": "stdout",
     "output_type": "stream",
     "text": [
      "450\n"
     ]
    }
   ],
   "source": [
    "print(summer(data)) #22"
   ]
  },
  {
   "cell_type": "markdown",
   "metadata": {
    "colab_type": "text",
    "id": "G94ppOY1VqAA"
   },
   "source": [
    "# 23. Для какого режиссера зима – самое продуктивное время года? "
   ]
  },
  {
   "cell_type": "code",
   "execution_count": 184,
   "metadata": {
    "colab": {},
    "colab_type": "code",
    "id": "RhNTsamuVqAB"
   },
   "outputs": [],
   "source": [
    "answers['23'] = '23. Peter Jackson'"
   ]
  },
  {
   "cell_type": "code",
   "execution_count": 185,
   "metadata": {},
   "outputs": [
    {
     "name": "stdout",
     "output_type": "stream",
     "text": [
      "Peter Jackson\n"
     ]
    }
   ],
   "source": [
    "print(winter_director(data)) #23"
   ]
  },
  {
   "cell_type": "markdown",
   "metadata": {
    "colab_type": "text",
    "id": "RBo0JVjVVqAF"
   },
   "source": [
    "# 24. Какая студия дает самые длинные названия своим фильмам по количеству символов?"
   ]
  },
  {
   "cell_type": "code",
   "execution_count": 186,
   "metadata": {
    "colab": {},
    "colab_type": "code",
    "id": "QRGS8L0iVqAG"
   },
   "outputs": [],
   "source": [
    "answers['24'] = '24. Four By Two Productions'"
   ]
  },
  {
   "cell_type": "code",
   "execution_count": 187,
   "metadata": {},
   "outputs": [
    {
     "name": "stdout",
     "output_type": "stream",
     "text": [
      "Four By Two Productions\n"
     ]
    }
   ],
   "source": [
    "print(company_title(data)) #24"
   ]
  },
  {
   "cell_type": "markdown",
   "metadata": {
    "colab_type": "text",
    "id": "9G0hbvR7VqAK"
   },
   "source": [
    "# 25. Описание фильмов какой студии в среднем самые длинные по количеству слов?"
   ]
  },
  {
   "cell_type": "code",
   "execution_count": 188,
   "metadata": {
    "colab": {},
    "colab_type": "code",
    "id": "Ge2GsLNxVqAK"
   },
   "outputs": [],
   "source": [
    "answers['25'] = '25. Midnight Picture Show'"
   ]
  },
  {
   "cell_type": "code",
   "execution_count": 189,
   "metadata": {},
   "outputs": [
    {
     "name": "stdout",
     "output_type": "stream",
     "text": [
      "Midnight Picture Show\n"
     ]
    }
   ],
   "source": [
    "print(company_overview(data)) #25"
   ]
  },
  {
   "cell_type": "markdown",
   "metadata": {
    "colab_type": "text",
    "id": "FJ1AFt90VqAP"
   },
   "source": [
    "# 26. Какие фильмы входят в 1 процент лучших по рейтингу? \n",
    "по vote_average"
   ]
  },
  {
   "cell_type": "code",
   "execution_count": 190,
   "metadata": {
    "colab": {},
    "colab_type": "code",
    "id": "8qmJVq4CVqAQ"
   },
   "outputs": [],
   "source": [
    "answers['26'] = '26. Inside Out, The Dark Knight, 12 Years a Slave'"
   ]
  },
  {
   "cell_type": "code",
   "execution_count": 191,
   "metadata": {},
   "outputs": [
    {
     "name": "stdout",
     "output_type": "stream",
     "text": [
      "599                                   The Dark Knight\n",
      "9                                          Inside Out\n",
      "34                                               Room\n",
      "118                                      Interstellar\n",
      "125                                The Imitation Game\n",
      "119                           Guardians of the Galaxy\n",
      "128                                         Gone Girl\n",
      "138                          The Grand Budapest Hotel\n",
      "370                                         Inception\n",
      "872                                       The Pianist\n",
      "1081    The Lord of the Rings: The Return of the King\n",
      "1183                          The Wolf of Wall Street\n",
      "1191                                 12 Years a Slave\n",
      "1800                                          Memento\n",
      "28                                          Spotlight\n",
      "124                                        Big Hero 6\n",
      "155                          The Theory of Everything\n",
      "177                            The Fault in Our Stars\n",
      "283                                        Mr. Nobody\n",
      "Name: original_title, dtype: object\n"
     ]
    }
   ],
   "source": [
    "data_top_one = data.nlargest(19, ['vote_average'])\n",
    "print(data_top_one['original_title'])"
   ]
  },
  {
   "cell_type": "markdown",
   "metadata": {
    "colab_type": "text",
    "id": "MdXsUXbCVqAV"
   },
   "source": [
    "# 27. Какие актеры чаще всего снимаются в одном фильме вместе?\n"
   ]
  },
  {
   "cell_type": "code",
   "execution_count": 196,
   "metadata": {},
   "outputs": [],
   "source": [
    "answers['27'] = '27. Daniel Radcliffe & Rupert Grint верно'"
   ]
  },
  {
   "cell_type": "code",
   "execution_count": 197,
   "metadata": {},
   "outputs": [
    {
     "name": "stdout",
     "output_type": "stream",
     "text": [
      "Daniel RadcliffeRupert Grint\n"
     ]
    }
   ],
   "source": [
    "print(acters_together(data)) #27"
   ]
  },
  {
   "cell_type": "markdown",
   "metadata": {
    "colab_type": "text",
    "id": "4ymnxEVoVqAW"
   },
   "source": [
    "ВАРИАНТ 2"
   ]
  },
  {
   "cell_type": "markdown",
   "metadata": {
    "colab_type": "text",
    "id": "U0nONFnGVqAX"
   },
   "source": [
    "# Submission"
   ]
  },
  {
   "cell_type": "code",
   "execution_count": 198,
   "metadata": {
    "colab": {},
    "colab_type": "code",
    "id": "IfcaRO9-VqAX",
    "outputId": "0f132912-32bb-4196-c98c-abfbc4ad5a5f"
   },
   "outputs": [
    {
     "data": {
      "text/plain": [
       "{'1': '1. Pirates of the Caribbean: On Stranger Tides (tt1298650)',\n",
       " '2': '2. Gods and Generals (tt0279111)',\n",
       " '3': '3. Winnie the Pooh (tt1449283)',\n",
       " '4': '4. 110',\n",
       " '5': '5. 107',\n",
       " '6': '6. Avatar (tt0499549)',\n",
       " '7': '7. The Lone Ranger (tt1210819)',\n",
       " '8': '8. 1478',\n",
       " '9': '9. The Dark Knight (tt0468569)',\n",
       " '10': '10. The Lone Ranger (tt1210819)',\n",
       " '11': '11. Drama',\n",
       " '12': '12. Drama',\n",
       " '13': '13. Peter Jackson',\n",
       " '14': '14. Robert Rodriguez',\n",
       " '15': '15. Chris Hemsworth',\n",
       " '16': '16. Matt Damon',\n",
       " '17': '17. Action',\n",
       " '18': '18. K-19: The Widowmaker (tt0267626)',\n",
       " '19': '19. 2015',\n",
       " '20': '20. 2014',\n",
       " '21': '21. Сентябрь',\n",
       " '22': '22. 450',\n",
       " '23': '23. Peter Jackson',\n",
       " '24': '24. Four By Two Productions',\n",
       " '25': '25. Midnight Picture Show',\n",
       " '26': '26. Inside Out, The Dark Knight, 12 Years a Slave',\n",
       " '27': '27. Daniel Radcliffe & Rupert Grint верно'}"
      ]
     },
     "execution_count": 198,
     "metadata": {},
     "output_type": "execute_result"
    }
   ],
   "source": [
    "# в конце можно посмотреть свои ответы к каждому вопросу\n",
    "answers"
   ]
  },
  {
   "cell_type": "code",
   "execution_count": 199,
   "metadata": {
    "colab": {},
    "colab_type": "code",
    "id": "SiRmHPl8VqAd"
   },
   "outputs": [
    {
     "data": {
      "text/plain": [
       "27"
      ]
     },
     "execution_count": 199,
     "metadata": {},
     "output_type": "execute_result"
    }
   ],
   "source": [
    "# и убедиться что ни чего не пропустил)\n",
    "len(answers)"
   ]
  },
  {
   "cell_type": "code",
   "execution_count": null,
   "metadata": {
    "colab": {},
    "colab_type": "code",
    "id": "uCfuTkRbVqAg"
   },
   "outputs": [],
   "source": []
  },
  {
   "cell_type": "code",
   "execution_count": null,
   "metadata": {
    "colab": {},
    "colab_type": "code",
    "id": "Vwx3NrkSVqAl"
   },
   "outputs": [],
   "source": []
  },
  {
   "cell_type": "code",
   "execution_count": null,
   "metadata": {},
   "outputs": [],
   "source": []
  },
  {
   "cell_type": "code",
   "execution_count": null,
   "metadata": {},
   "outputs": [],
   "source": []
  }
 ],
 "metadata": {
  "colab": {
   "name": "Copy of [SF-DST] Movies IMBD v4.1 TEMPLATE.ipynb",
   "provenance": []
  },
  "kernelspec": {
   "display_name": "Python 3",
   "language": "python",
   "name": "python3"
  },
  "language_info": {
   "codemirror_mode": {
    "name": "ipython",
    "version": 3
   },
   "file_extension": ".py",
   "mimetype": "text/x-python",
   "name": "python",
   "nbconvert_exporter": "python",
   "pygments_lexer": "ipython3",
   "version": "3.8.3"
  }
 },
 "nbformat": 4,
 "nbformat_minor": 1
}
